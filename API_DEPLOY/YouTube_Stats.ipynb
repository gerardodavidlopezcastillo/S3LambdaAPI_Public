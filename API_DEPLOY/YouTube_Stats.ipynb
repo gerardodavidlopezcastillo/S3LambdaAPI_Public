{
 "cells": [
  {
   "cell_type": "markdown",
   "id": "222eecbd",
   "metadata": {},
   "source": [
    "![cover_images](https://camo.githubusercontent.com/3492e111812ac08200d4acd9a0dce36ff18e22be558865d26aae570f4348996c/68747470733a2f2f6a6f736570686d75636972616578636c7573697665732e636f6d2f77702d636f6e74656e742f75706c6f6164732f323031392f30382f596f75547562652d446174612d4150492d4f766572766965772e6a7067)"
   ]
  },
  {
   "cell_type": "code",
   "execution_count": 2,
   "id": "6038f72a",
   "metadata": {},
   "outputs": [
    {
     "name": "stdout",
     "output_type": "stream",
     "text": [
      "Defaulting to user installation because normal site-packages is not writeable\n",
      "Collecting bs4\n",
      "  Downloading bs4-0.0.1.tar.gz (1.1 kB)\n",
      "  Installing build dependencies: started\n",
      "  Installing build dependencies: finished with status 'done'\n",
      "  Getting requirements to build wheel: started\n",
      "  Getting requirements to build wheel: finished with status 'done'\n",
      "  Preparing metadata (pyproject.toml): started\n",
      "  Preparing metadata (pyproject.toml): finished with status 'done'\n",
      "Collecting beautifulsoup4 (from bs4)\n",
      "  Downloading beautifulsoup4-4.12.2-py3-none-any.whl (142 kB)\n",
      "     ---------------------------------------- 0.0/143.0 kB ? eta -:--:--\n",
      "     -- ------------------------------------- 10.2/143.0 kB ? eta -:--:--\n",
      "     -- ------------------------------------- 10.2/143.0 kB ? eta -:--:--\n",
      "     -- ------------------------------------- 10.2/143.0 kB ? eta -:--:--\n",
      "     ------- ----------------------------- 30.7/143.0 kB 131.3 kB/s eta 0:00:01\n",
      "     ---------- -------------------------- 41.0/143.0 kB 151.3 kB/s eta 0:00:01\n",
      "     ------------------ ------------------ 71.7/143.0 kB 262.6 kB/s eta 0:00:01\n",
      "     ----------------------- ------------- 92.2/143.0 kB 261.7 kB/s eta 0:00:01\n",
      "     ------------------------------ ----- 122.9/143.0 kB 313.8 kB/s eta 0:00:01\n",
      "     --------------------------------- -- 133.1/143.0 kB 327.7 kB/s eta 0:00:01\n",
      "     ------------------------------------ 143.0/143.0 kB 303.1 kB/s eta 0:00:00\n",
      "Collecting soupsieve>1.2 (from beautifulsoup4->bs4)\n",
      "  Obtaining dependency information for soupsieve>1.2 from https://files.pythonhosted.org/packages/4c/f3/038b302fdfbe3be7da016777069f26ceefe11a681055ea1f7817546508e3/soupsieve-2.5-py3-none-any.whl.metadata\n",
      "  Downloading soupsieve-2.5-py3-none-any.whl.metadata (4.7 kB)\n",
      "Downloading soupsieve-2.5-py3-none-any.whl (36 kB)\n",
      "Building wheels for collected packages: bs4\n",
      "  Building wheel for bs4 (pyproject.toml): started\n",
      "  Building wheel for bs4 (pyproject.toml): finished with status 'done'\n",
      "  Created wheel for bs4: filename=bs4-0.0.1-py3-none-any.whl size=1265 sha256=804c3bb6aaab9778f7de8f7767a804727e826e86912e73fbb3fa4261bd9c5766\n",
      "  Stored in directory: c:\\users\\gerardo\\appdata\\local\\pip\\cache\\wheels\\d4\\c8\\5b\\b5be9c20e5e4503d04a6eac8a3cd5c2393505c29f02bea0960\n",
      "Successfully built bs4\n",
      "Installing collected packages: soupsieve, beautifulsoup4, bs4\n",
      "Successfully installed beautifulsoup4-4.12.2 bs4-0.0.1 soupsieve-2.5\n",
      "Note: you may need to restart the kernel to use updated packages.\n"
     ]
    }
   ],
   "source": [
    "pip install bs4"
   ]
  },
  {
   "cell_type": "code",
   "execution_count": 4,
   "id": "39bddc30",
   "metadata": {},
   "outputs": [
    {
     "name": "stdout",
     "output_type": "stream",
     "text": [
      "Defaulting to user installation because normal site-packages is not writeable\n",
      "Collecting millify\n",
      "  Downloading millify-0.1.1.tar.gz (1.2 kB)\n",
      "  Installing build dependencies: started\n",
      "  Installing build dependencies: finished with status 'done'\n",
      "  Getting requirements to build wheel: started\n",
      "  Getting requirements to build wheel: finished with status 'done'\n",
      "  Preparing metadata (pyproject.toml): started\n",
      "  Preparing metadata (pyproject.toml): finished with status 'done'\n",
      "Building wheels for collected packages: millify\n",
      "  Building wheel for millify (pyproject.toml): started\n",
      "  Building wheel for millify (pyproject.toml): finished with status 'done'\n",
      "  Created wheel for millify: filename=millify-0.1.1-py3-none-any.whl size=1848 sha256=3c86f32adabf010cca5f679ac56e4a292c1ada0827bcad7e7fb4ca4394e38c09\n",
      "  Stored in directory: c:\\users\\gerardo\\appdata\\local\\pip\\cache\\wheels\\b2\\0d\\c4\\630629a3cdefdf9ce43ef4a08d17672c8e773bc3d769e828e0\n",
      "Successfully built millify\n",
      "Installing collected packages: millify\n",
      "Successfully installed millify-0.1.1\n",
      "Note: you may need to restart the kernel to use updated packages.\n"
     ]
    }
   ],
   "source": [
    "pip install millify"
   ]
  },
  {
   "cell_type": "code",
   "execution_count": 6,
   "id": "95c01146",
   "metadata": {},
   "outputs": [
    {
     "name": "stdout",
     "output_type": "stream",
     "text": [
      "Defaulting to user installation because normal site-packages is not writeableNote: you may need to restart the kernel to use updated packages.\n",
      "\n",
      "Collecting cred\n",
      "  Downloading cred-0.1-py3-none-any.whl (4.0 kB)\n",
      "Collecting pyperclip>=1.8.2 (from cred)\n",
      "  Downloading pyperclip-1.8.2.tar.gz (20 kB)\n",
      "  Installing build dependencies: started\n",
      "  Installing build dependencies: finished with status 'done'\n",
      "  Getting requirements to build wheel: started\n",
      "  Getting requirements to build wheel: finished with status 'done'\n",
      "  Preparing metadata (pyproject.toml): started\n",
      "  Preparing metadata (pyproject.toml): finished with status 'done'\n",
      "Building wheels for collected packages: pyperclip\n",
      "  Building wheel for pyperclip (pyproject.toml): started\n",
      "  Building wheel for pyperclip (pyproject.toml): finished with status 'done'\n",
      "  Created wheel for pyperclip: filename=pyperclip-1.8.2-py3-none-any.whl size=11136 sha256=80a3df8f5dd6daa4e522ce7daf77bbd83d94d82be6a006a1cb8dc45d86ca45c4\n",
      "  Stored in directory: c:\\users\\gerardo\\appdata\\local\\pip\\cache\\wheels\\70\\bd\\ba\\8ae5c080c895c9360fe6e153acda2dee82527374467eae061b\n",
      "Successfully built pyperclip\n",
      "Installing collected packages: pyperclip, cred\n",
      "Successfully installed cred-0.1 pyperclip-1.8.2\n"
     ]
    }
   ],
   "source": [
    "pip install cred"
   ]
  },
  {
   "cell_type": "code",
   "execution_count": 10,
   "id": "49cdf648",
   "metadata": {},
   "outputs": [],
   "source": [
    "import pandas as pd\n",
    "import time\n",
    "import requests\n",
    "from bs4 import BeautifulSoup\n",
    "import json\n",
    "import random\n",
    "import time\n",
    "from datetime import datetime\n",
    "import datetime\n",
    "import os\n",
    "import numpy as np \n",
    "from millify import millify,prettify\n",
    "from tqdm import tqdm\n",
    "from cred_template import *\n",
    "import cred"
   ]
  },
  {
   "cell_type": "code",
   "execution_count": 13,
   "id": "8d50c6af",
   "metadata": {},
   "outputs": [],
   "source": [
    "API_KEY = 'xxXxxXXxxXXxxXXXXxxxxxXXXXXXxxx'\n",
    "DEVELOPER_KEY = API_KEY\n",
    "#DEVELOPER_KEY = cred.API_KEY"
   ]
  },
  {
   "cell_type": "markdown",
   "id": "deadd212",
   "metadata": {},
   "source": [
    "# Youtube Channel Stats\n",
    "\n",
    "[youtube_url](https://developers.google.com/youtube/v3/docs/channels?hl=es)"
   ]
  },
  {
   "cell_type": "code",
   "execution_count": 14,
   "id": "fee64143",
   "metadata": {},
   "outputs": [],
   "source": [
    "url = \"https://www.youtube.com/channel/UCLXRGxAzeaLDGaOphqapzmg\""
   ]
  },
  {
   "cell_type": "code",
   "execution_count": 15,
   "id": "365b0077",
   "metadata": {},
   "outputs": [
    {
     "data": {
      "text/plain": [
       "{'kind': 'youtube#channelListResponse',\n",
       " 'etag': 'ECj4Vx5iRJcSY7LEUILXt6Mu7Cc',\n",
       " 'pageInfo': {'totalResults': 1, 'resultsPerPage': 5},\n",
       " 'items': [{'kind': 'youtube#channel',\n",
       "   'etag': 'WeUYL9fbJLu9kRM7k3ioDqV9XSk',\n",
       "   'id': 'UCLXRGxAzeaLDGaOphqapzmg',\n",
       "   'statistics': {'viewCount': '101336796',\n",
       "    'subscriberCount': '717000',\n",
       "    'hiddenSubscriberCount': False,\n",
       "    'videoCount': '3235'}}]}"
      ]
     },
     "execution_count": 15,
     "metadata": {},
     "output_type": "execute_result"
    }
   ],
   "source": [
    "CHANNEL_ID = 'UCLXRGxAzeaLDGaOphqapzmg'\n",
    "\n",
    "url_channel_stats = 'https://youtube.googleapis.com/youtube/v3/channels?part=statistics&id='+CHANNEL_ID+'&key='+DEVELOPER_KEY\n",
    "channel_stats = requests.get(url_channel_stats).json()\n",
    "channel_stats"
   ]
  },
  {
   "cell_type": "code",
   "execution_count": 16,
   "id": "f3d291ad",
   "metadata": {},
   "outputs": [
    {
     "data": {
      "text/plain": [
       "{'Created_at': '2023-09-03',\n",
       " 'Total_Views': 101336796,\n",
       " 'Suscribers': 717000,\n",
       " 'Video_count': 3235}"
      ]
     },
     "execution_count": 16,
     "metadata": {},
     "output_type": "execute_result"
    }
   ],
   "source": [
    "channel_stats = channel_stats['items'][0]['statistics']\n",
    "date = pd.to_datetime('today').strftime(\"%Y-%m-%d\")\n",
    "\n",
    "data_channel = {\n",
    "    \n",
    "    'Created_at':date,\n",
    "    'Total_Views':int(float(channel_stats['viewCount'])),\n",
    "    'Suscribers':int(float(channel_stats['subscriberCount'])),\n",
    "    'Video_count':int(float(channel_stats['videoCount'])),\n",
    "    \n",
    "}\n",
    "\n",
    "data_channel"
   ]
  },
  {
   "cell_type": "code",
   "execution_count": 17,
   "id": "8e2082ff",
   "metadata": {},
   "outputs": [
    {
     "data": {
      "text/plain": [
       "717000"
      ]
     },
     "execution_count": 17,
     "metadata": {},
     "output_type": "execute_result"
    }
   ],
   "source": [
    "data_channel['Suscribers']"
   ]
  },
  {
   "cell_type": "markdown",
   "id": "1dfa2fd7",
   "metadata": {},
   "source": [
    "# Funtions "
   ]
  },
  {
   "cell_type": "code",
   "execution_count": 19,
   "id": "b4f03986",
   "metadata": {},
   "outputs": [],
   "source": [
    "def get_stats(api_key,channel_id):\n",
    "    \n",
    "    url_channel_stats = 'https://youtube.googleapis.com/youtube/v3/channels?part=statistics&id='+channel_id+'&key='+api_key\n",
    "    channel_stats = requests.get(url_channel_stats).json()\n",
    "    \n",
    "    \n",
    "    channel_stats = channel_stats['items'][0]['statistics']\n",
    "    date = pd.to_datetime('today').strftime(\"%Y-%m-%d\")\n",
    "\n",
    "    data_channel = {\n",
    "\n",
    "        'Created_at':date,\n",
    "        'Total_Views':int(float(channel_stats['viewCount'])),\n",
    "        'Suscribers':int(float(channel_stats['subscriberCount'])),\n",
    "        'Video_count':int(float(channel_stats['videoCount'])),\n",
    "\n",
    "    }\n",
    "    \n",
    "    return data_channel"
   ]
  },
  {
   "cell_type": "code",
   "execution_count": 33,
   "id": "ad42da31",
   "metadata": {},
   "outputs": [
    {
     "data": {
      "text/plain": [
       "{'Created_at': '2023-09-03',\n",
       " 'Total_Views': 101336796,\n",
       " 'Suscribers': 717000,\n",
       " 'Video_count': 3235}"
      ]
     },
     "execution_count": 33,
     "metadata": {},
     "output_type": "execute_result"
    }
   ],
   "source": [
    "get_stats(DEVELOPER_KEY,CHANNEL_ID)"
   ]
  },
  {
   "cell_type": "markdown",
   "id": "097f9123",
   "metadata": {},
   "source": [
    "# Channels to analize"
   ]
  },
  {
   "cell_type": "code",
   "execution_count": 24,
   "id": "29d2cf21",
   "metadata": {},
   "outputs": [],
   "source": [
    "channels_name  =  ['DeigoRuzzarin', 'NateGentile','Marciaylanube','Fazt_web','PeladoNerd','Codigofacilito']\n",
    "channels_id  =  ['UC1viRct91s1a3Z5yvk7FJXw', 'UC36xmz34q02JYaZYKrMwXng','UCWYUbW_Lw5EQC0WybxInObA','UCoMdktPbSTixAyNGwb-UYkQ','UCrBzBOMcUVV8ryyAU_c6P5g','UCLXRGxAzeaLDGaOphqapzmg']"
   ]
  },
  {
   "cell_type": "code",
   "execution_count": 25,
   "id": "b79a68b2",
   "metadata": {},
   "outputs": [],
   "source": [
    "channels = {\n",
    "    'Channel_name':channels_name,\n",
    "    'Channel_id':channels_id}\n",
    "\n",
    "df_channels = pd.DataFrame(channels)"
   ]
  },
  {
   "cell_type": "code",
   "execution_count": 34,
   "id": "41ea5b20",
   "metadata": {},
   "outputs": [],
   "source": [
    "df_channels\n",
    "# Exportar el DataFrame a un archivo CSV\n",
    "df_channels.to_csv('channels_to_analize.csv', index=False)"
   ]
  },
  {
   "cell_type": "code",
   "execution_count": 29,
   "id": "20cb41c6",
   "metadata": {},
   "outputs": [
    {
     "data": {
      "text/plain": [
       "{'Created_at': '2023-09-03',\n",
       " 'Total_Views': 344074959,\n",
       " 'Suscribers': 2610000,\n",
       " 'Video_count': 465}"
      ]
     },
     "execution_count": 29,
     "metadata": {},
     "output_type": "execute_result"
    }
   ],
   "source": [
    "get_stats(DEVELOPER_KEY,df_channels['Channel_id'][1])"
   ]
  },
  {
   "cell_type": "code",
   "execution_count": 28,
   "id": "ca60f987",
   "metadata": {},
   "outputs": [],
   "source": [
    "def channel_stats(df,api_key):\n",
    "    \n",
    "    date = []\n",
    "    views = []\n",
    "    suscriber = []\n",
    "    video_count = []\n",
    "    channel_name = []\n",
    "    \n",
    "    tiempo = [1,2.5,3,2]\n",
    "    \n",
    "    \n",
    "    for i in tqdm(range(len(df)),colour = 'green'):\n",
    "        \n",
    "        stats_temp = get_stats(DEVELOPER_KEY,df_channels['Channel_id'][i])\n",
    "        \n",
    "        date.append(stats_temp['Created_at'])\n",
    "        views.append(stats_temp['Total_Views'])\n",
    "        suscriber.append(stats_temp['Suscribers'])\n",
    "        video_count.append(stats_temp['Video_count'])\n",
    "        channel_name.append(df['Channel_name'][i])\n",
    "        \n",
    "        time.sleep(random.choice(tiempo))\n",
    "    \n",
    "    data = {\n",
    "        \n",
    "        'Channel_name':channel_name,\n",
    "        'Suscribers':suscriber,\n",
    "        'Video_Count':video_count,\n",
    "        'Total_Views':views,\n",
    "        'created_at':date,\n",
    "        \n",
    "    }\n",
    "    \n",
    "    df_channels_final = pd.DataFrame(data)\n",
    "    \n",
    "    return df_channels_final     "
   ]
  },
  {
   "cell_type": "code",
   "execution_count": 30,
   "id": "cc355470",
   "metadata": {},
   "outputs": [
    {
     "name": "stderr",
     "output_type": "stream",
     "text": [
      "100%|\u001b[32m██████████\u001b[0m| 6/6 [00:19<00:00,  3.27s/it]\n"
     ]
    },
    {
     "data": {
      "text/html": [
       "<div>\n",
       "<style scoped>\n",
       "    .dataframe tbody tr th:only-of-type {\n",
       "        vertical-align: middle;\n",
       "    }\n",
       "\n",
       "    .dataframe tbody tr th {\n",
       "        vertical-align: top;\n",
       "    }\n",
       "\n",
       "    .dataframe thead th {\n",
       "        text-align: right;\n",
       "    }\n",
       "</style>\n",
       "<table border=\"1\" class=\"dataframe\">\n",
       "  <thead>\n",
       "    <tr style=\"text-align: right;\">\n",
       "      <th></th>\n",
       "      <th>Channel_name</th>\n",
       "      <th>Suscribers</th>\n",
       "      <th>Video_Count</th>\n",
       "      <th>Total_Views</th>\n",
       "      <th>created_at</th>\n",
       "    </tr>\n",
       "  </thead>\n",
       "  <tbody>\n",
       "    <tr>\n",
       "      <th>0</th>\n",
       "      <td>DeigoRuzzarin</td>\n",
       "      <td>1260000</td>\n",
       "      <td>1626</td>\n",
       "      <td>191229659</td>\n",
       "      <td>2023-09-03</td>\n",
       "    </tr>\n",
       "    <tr>\n",
       "      <th>1</th>\n",
       "      <td>NateGentile</td>\n",
       "      <td>2610000</td>\n",
       "      <td>465</td>\n",
       "      <td>344074959</td>\n",
       "      <td>2023-09-03</td>\n",
       "    </tr>\n",
       "    <tr>\n",
       "      <th>2</th>\n",
       "      <td>Marciaylanube</td>\n",
       "      <td>10600</td>\n",
       "      <td>107</td>\n",
       "      <td>297287</td>\n",
       "      <td>2023-09-03</td>\n",
       "    </tr>\n",
       "    <tr>\n",
       "      <th>3</th>\n",
       "      <td>Fazt_web</td>\n",
       "      <td>6680000</td>\n",
       "      <td>38046</td>\n",
       "      <td>4101295432</td>\n",
       "      <td>2023-09-03</td>\n",
       "    </tr>\n",
       "    <tr>\n",
       "      <th>4</th>\n",
       "      <td>PeladoNerd</td>\n",
       "      <td>150000</td>\n",
       "      <td>327</td>\n",
       "      <td>9942963</td>\n",
       "      <td>2023-09-03</td>\n",
       "    </tr>\n",
       "    <tr>\n",
       "      <th>5</th>\n",
       "      <td>Codigofacilito</td>\n",
       "      <td>717000</td>\n",
       "      <td>3235</td>\n",
       "      <td>101336796</td>\n",
       "      <td>2023-09-03</td>\n",
       "    </tr>\n",
       "  </tbody>\n",
       "</table>\n",
       "</div>"
      ],
      "text/plain": [
       "     Channel_name  Suscribers  Video_Count  Total_Views  created_at\n",
       "0   DeigoRuzzarin     1260000         1626    191229659  2023-09-03\n",
       "1     NateGentile     2610000          465    344074959  2023-09-03\n",
       "2   Marciaylanube       10600          107       297287  2023-09-03\n",
       "3        Fazt_web     6680000        38046   4101295432  2023-09-03\n",
       "4      PeladoNerd      150000          327      9942963  2023-09-03\n",
       "5  Codigofacilito      717000         3235    101336796  2023-09-03"
      ]
     },
     "execution_count": 30,
     "metadata": {},
     "output_type": "execute_result"
    }
   ],
   "source": [
    "channel_stats(df_channels,DEVELOPER_KEY)"
   ]
  },
  {
   "cell_type": "code",
   "execution_count": null,
   "id": "2d893d60",
   "metadata": {},
   "outputs": [],
   "source": [
    "millify(channel_stats['subscriberCount'],2)"
   ]
  },
  {
   "cell_type": "code",
   "execution_count": 16,
   "id": "eec62817",
   "metadata": {},
   "outputs": [
    {
     "data": {
      "text/plain": [
       "'3.07k'"
      ]
     },
     "execution_count": 16,
     "metadata": {},
     "output_type": "execute_result"
    }
   ],
   "source": [
    "millify(channel_stats['videoCount'],2)"
   ]
  },
  {
   "cell_type": "code",
   "execution_count": 17,
   "id": "a2021efc",
   "metadata": {},
   "outputs": [
    {
     "data": {
      "text/plain": [
       "'97.97M'"
      ]
     },
     "execution_count": 17,
     "metadata": {},
     "output_type": "execute_result"
    }
   ],
   "source": [
    "millify(channel_stats['viewCount'],2)"
   ]
  }
 ],
 "metadata": {
  "kernelspec": {
   "display_name": "Python 3",
   "language": "python",
   "name": "python3"
  },
  "language_info": {
   "codemirror_mode": {
    "name": "ipython",
    "version": 3
   },
   "file_extension": ".py",
   "mimetype": "text/x-python",
   "name": "python",
   "nbconvert_exporter": "python",
   "pygments_lexer": "ipython3",
   "version": "3.11.5"
  }
 },
 "nbformat": 4,
 "nbformat_minor": 5
}
